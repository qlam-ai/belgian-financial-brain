{
 "cells": [
  {
   "cell_type": "code",
   "execution_count": 22,
   "metadata": {},
   "outputs": [],
   "source": [
    "import pandas as pd\n",
    "import json\n",
    "from fuzzywuzzy import process\n",
    "from extraction_functions import extract_data_etfs, extract_data_stocks\n",
    "\n",
    "# Assuming we have the following data\n",
    "data = {\n",
    "    \"transaction_id\": [\"T1001\", \"T1002\", \"T1003\", \"T1004\", \"T1005\"],\n",
    "    \"customer_id\": [\"C001\", \"C002\", \"C003\", \"C002\", \"C001\"],\n",
    "    \"payment_amount\": [125.50, 89.99, 120.00, 54.30, 210.20],\n",
    "    \"payment_date\": [\n",
    "        \"2021-10-05\",\n",
    "        \"2021-10-06\",\n",
    "        \"2021-10-07\",\n",
    "        \"2021-10-05\",\n",
    "        \"2021-10-08\",\n",
    "    ],\n",
    "    \"payment_status\": [\"Paid\", \"Unpaid\", \"Paid\", \"Paid\", \"Pending\"],\n",
    "}\n",
    "\n",
    "# Create DataFrame\n",
    "df = pd.DataFrame(data)\n",
    "\n",
    "\n",
    "company_names = {\n",
    "    \"ucb\": \"UCB.BR\",\n",
    "    \"abinbev\": \"ABI.BR\",\n",
    "    \"aedifica\": \"AED.BR\",\n",
    "    \"ageas\": \"AGS.BR\",\n",
    "    \"aperam\": \"APAM.AS\",\n",
    "    \"argenx\": \"ARGX.BR\",\n",
    "    \"belgian national bank\": \"BNB.BR\",\n",
    "    \"cofinimmo\": \"COFB.BR\",\n",
    "    \"elia\": \"ELI.BR\",\n",
    "    \"ishares msci belgium etf\": \"EWK\",\n",
    "    \"groupe bruxelles lambert sa\": \"GBLB.BR\",\n",
    "    \"galapagos nv\": \"GLPG.AS\",\n",
    "    \"kbc bank\": \"KBC.BR\",\n",
    "    \"melexis nv\": \"MELE.BR\",\n",
    "    \"proximus\": \"PROX.BR\",\n",
    "    \"sofina\": \"SOF.BR\",\n",
    "    \"solvay\": \"SOLB.BR\",\n",
    "    \"umicore\": \"UMI.BR\",\n",
    "    \"unified post group\": \"UPG.BR\",\n",
    "    \"warehouses de pauw\": \"WDP.BR\",\n",
    "    \"xior student housing\": \"XIOR.BR\",\n",
    "}\n",
    "\n",
    "companies = list(company_names.keys())\n",
    "# Threshold for acceptable similarity (0-100 scale)\n",
    "threshold = 80\n",
    "\n",
    "\n",
    "def find_best_match(user_input, company_list, threshold):\n",
    "    # Find the best match with score\n",
    "    best_match, best_score = process.extractOne(user_input, company_list)\n",
    "\n",
    "    # Check if the best match meets the threshold\n",
    "    if best_score >= threshold:\n",
    "        return best_match\n",
    "    else:\n",
    "        return \"none\"\n",
    "\n",
    "\n",
    "def read_file_to_string(file_name):\n",
    "    try:\n",
    "        with open(file_name, \"r\", encoding=\"utf-8\") as file:\n",
    "            content = file.read()\n",
    "        return content\n",
    "    except FileNotFoundError:\n",
    "        return \"Error: File not found.\"\n",
    "    except IOError:\n",
    "        return \"Error: Could not read the file.\"\n",
    "\n",
    "\n",
    "def retrieve_setf_info(companies: list, stock_name: str, threshold: int) -> str:\n",
    "    stock_name = stock_name.lower()\n",
    "    result = find_best_match(stock_name, companies, threshold)\n",
    "    # let's do a fuzzy match with the company names and retrieve the most relevant company name\n",
    "    res = \"\"\n",
    "    if result != \"none\":\n",
    "        file_content = read_file_to_string(\"data/\" + company_names[result] + \".txt\")\n",
    "        res = json.dumps({\"information we have on stock/etf\": file_content})\n",
    "    else:\n",
    "        res = json.dumps({\"error\": \"transaction id not found.\"})\n",
    "    return res"
   ]
  },
  {
   "cell_type": "code",
   "execution_count": 23,
   "metadata": {},
   "outputs": [
    {
     "data": {
      "text/plain": [
       "'{\"information we have on stock/etf\": \"Yahoo ID of Stock: UCB.BR\\\\nlast traded price: 178.0\\\\ncurrency: EUR\\\\nstock value change since market open: -0.25\\\\nstock value change since market last close: -0.75\\\\nstock exchange on which stock is traded: BRU\\\\nvolume: 115187\\\\nturnover: 20503286.0\\\\nmarket Cap: 33770160128\\\\nnumber of shares outstanding: 189720000\\\\ncompany information in json format: [{\\'maxAge\\': 1, \\'name\\': \\'Mr. Jean-Christophe  Tellier\\', \\'age\\': 64, \\'title\\': \\'CEO & Executive Director\\', \\'yearBorn\\': 1959, \\'fiscalYear\\': 2023, \\'totalPay\\': 4099149, \\'exercisedValue\\': 0, \\'unexercisedValue\\': 1781620}, {\\'maxAge\\': 1, \\'name\\': \\'Ms. Sandrine  Dufour CFA\\', \\'age\\': 57, \\'title\\': \\'Executive VP, CFO & Chief Corporate Development\\', \\'yearBorn\\': 1966, \\'fiscalYear\\': 2023, \\'exercisedValue\\': 0, \\'unexercisedValue\\': 0}, {\\'maxAge\\': 1, \\'name\\': \\'Dr. Kirsten  Lund-Jurgensen Ph.D.\\', \\'age\\': 63, \\'title\\': \\'Executive Vice President of Supply & Technology Solutions\\', \\'yearBorn\\': 1960, \\'fiscalYear\\': 2023, \\'exercisedValue\\': 0, \\'unexercisedValue\\': 0}]\\\\nhistorical data over 5 days: [{\\\\\"Open\\\\\":173.0500030518,\\\\\"High\\\\\":173.4499969482,\\\\\"Low\\\\\":169.9499969482,\\\\\"Close\\\\\":171.0,\\\\\"Volume\\\\\":206743,\\\\\"Dividends\\\\\":0.0,\\\\\"Stock Splits\\\\\":0.0},{\\\\\"Open\\\\\":171.1000061035,\\\\\"High\\\\\":173.8500061035,\\\\\"Low\\\\\":171.0500030518,\\\\\"Close\\\\\":173.75,\\\\\"Volume\\\\\":172763,\\\\\"Dividends\\\\\":0.0,\\\\\"Stock Splits\\\\\":0.0},{\\\\\"Open\\\\\":174.1999969482,\\\\\"High\\\\\":177.6499938965,\\\\\"Low\\\\\":173.75,\\\\\"Close\\\\\":176.6999969482,\\\\\"Volume\\\\\":206479,\\\\\"Dividends\\\\\":0.0,\\\\\"Stock Splits\\\\\":0.0},{\\\\\"Open\\\\\":175.6999969482,\\\\\"High\\\\\":180.5500030518,\\\\\"Low\\\\\":175.6999969482,\\\\\"Close\\\\\":178.75,\\\\\"Volume\\\\\":190999,\\\\\"Dividends\\\\\":0.0,\\\\\"Stock Splits\\\\\":0.0},{\\\\\"Open\\\\\":178.25,\\\\\"High\\\\\":179.5500030518,\\\\\"Low\\\\\":177.1999969482,\\\\\"Close\\\\\":178.0,\\\\\"Volume\\\\\":115187,\\\\\"Dividends\\\\\":0.0,\\\\\"Stock Splits\\\\\":0.0}]\\\\n\"}'"
      ]
     },
     "execution_count": 23,
     "metadata": {},
     "output_type": "execute_result"
    }
   ],
   "source": [
    "retrieve_setf_info(companies, \"ucb\", 80)"
   ]
  },
  {
   "cell_type": "code",
   "execution_count": 7,
   "metadata": {},
   "outputs": [],
   "source": [
    "tools = [\n",
    "    {\n",
    "        \"type\": \"function\",\n",
    "        \"function\": {\n",
    "            \"name\": \"retrieve_payment_status\",\n",
    "            \"description\": \"Get payment status of a transaction\",\n",
    "            \"parameters\": {\n",
    "                \"type\": \"object\",\n",
    "                \"properties\": {\n",
    "                    \"transaction_id\": {\n",
    "                        \"type\": \"string\",\n",
    "                        \"description\": \"The transaction id.\",\n",
    "                    }\n",
    "                },\n",
    "                \"required\": [\"transaction_id\"],\n",
    "            },\n",
    "        },\n",
    "    },\n",
    "    {\n",
    "        \"type\": \"function\",\n",
    "        \"function\": {\n",
    "            \"name\": \"retrieve_payment_date\",\n",
    "            \"description\": \"Get payment date of a transaction\",\n",
    "            \"parameters\": {\n",
    "                \"type\": \"object\",\n",
    "                \"properties\": {\n",
    "                    \"transaction_id\": {\n",
    "                        \"type\": \"string\",\n",
    "                        \"description\": \"The transaction id.\",\n",
    "                    }\n",
    "                },\n",
    "                \"required\": [\"transaction_id\"],\n",
    "            },\n",
    "        },\n",
    "    },\n",
    "]"
   ]
  },
  {
   "cell_type": "code",
   "execution_count": 8,
   "metadata": {},
   "outputs": [],
   "source": [
    "import functools\n",
    "\n",
    "names_to_functions = {\n",
    "    \"retrieve_payment_status\": functools.partial(retrieve_payment_status, df=df),\n",
    "    \"retrieve_payment_date\": functools.partial(retrieve_payment_date, df=df),\n",
    "}"
   ]
  },
  {
   "cell_type": "code",
   "execution_count": 9,
   "metadata": {},
   "outputs": [],
   "source": [
    "messages = [{\"role\": \"user\", \"content\": \"What's the status of my transaction T1001?\"}]"
   ]
  },
  {
   "cell_type": "code",
   "execution_count": 10,
   "metadata": {},
   "outputs": [],
   "source": [
    "def get_api_key(platform, file_path):\n",
    "    with open(file_path, \"r\") as file:\n",
    "        lines = file.readlines()\n",
    "\n",
    "    for line in lines:\n",
    "        if \"=\" in line:\n",
    "            key_value = line.split(\"=\")\n",
    "            key_platform = key_value[0].strip()\n",
    "            key = key_value[1].strip().strip('\"')\n",
    "\n",
    "            if key_platform == platform:\n",
    "                return key\n",
    "    return None\n",
    "\n",
    "\n",
    "key = get_api_key(\"mistral\", \"/Users/naimsassine/Desktop/DSAI/keys\")"
   ]
  },
  {
   "cell_type": "code",
   "execution_count": 13,
   "metadata": {},
   "outputs": [
    {
     "data": {
      "text/plain": [
       "ChatCompletionResponse(id='48c72a1f83744e38953ac90d71557589', object='chat.completion', model='mistral-small-latest', usage=UsageInfo(prompt_tokens=166, completion_tokens=30, total_tokens=196), created=1730227179, choices=[ChatCompletionChoice(index=0, message=AssistantMessage(content='', tool_calls=[ToolCall(function=FunctionCall(name='retrieve_payment_status', arguments='{\"transaction_id\": \"T1001\"}'), id='hTa9738o5', type='function')], prefix=False, role='assistant'), finish_reason='tool_calls')])"
      ]
     },
     "execution_count": 13,
     "metadata": {},
     "output_type": "execute_result"
    }
   ],
   "source": [
    "import os\n",
    "from mistralai import Mistral\n",
    "\n",
    "\n",
    "api_key = key\n",
    "model = \"mistral-small-latest\"\n",
    "\n",
    "client = Mistral(api_key=api_key)\n",
    "response = client.chat.complete(\n",
    "    model=model,\n",
    "    messages=messages,\n",
    "    tools=tools,\n",
    "    tool_choice=\"any\",\n",
    ")\n",
    "response"
   ]
  },
  {
   "cell_type": "code",
   "execution_count": 14,
   "metadata": {},
   "outputs": [],
   "source": [
    "messages.append(response.choices[0].message)"
   ]
  },
  {
   "cell_type": "code",
   "execution_count": 16,
   "metadata": {},
   "outputs": [
    {
     "name": "stdout",
     "output_type": "stream",
     "text": [
      "\n",
      "function_name:  retrieve_payment_status \n",
      "function_params:  {'transaction_id': 'T1001'}\n"
     ]
    }
   ],
   "source": [
    "import json\n",
    "\n",
    "tool_call = response.choices[0].message.tool_calls[0]\n",
    "function_name = tool_call.function.name\n",
    "function_params = json.loads(tool_call.function.arguments)\n",
    "print(\"\\nfunction_name: \", function_name, \"\\nfunction_params: \", function_params)"
   ]
  },
  {
   "cell_type": "code",
   "execution_count": 17,
   "metadata": {},
   "outputs": [
    {
     "data": {
      "text/plain": [
       "'{\"status\": \"Paid\"}'"
      ]
     },
     "execution_count": 17,
     "metadata": {},
     "output_type": "execute_result"
    }
   ],
   "source": [
    "function_result = names_to_functions[function_name](**function_params)\n",
    "function_result"
   ]
  },
  {
   "cell_type": "code",
   "execution_count": 18,
   "metadata": {},
   "outputs": [
    {
     "data": {
      "text/plain": [
       "'The transaction T1001 has been paid.'"
      ]
     },
     "execution_count": 18,
     "metadata": {},
     "output_type": "execute_result"
    }
   ],
   "source": [
    "messages.append(\n",
    "    {\n",
    "        \"role\": \"tool\",\n",
    "        \"name\": function_name,\n",
    "        \"content\": function_result,\n",
    "        \"tool_call_id\": tool_call.id,\n",
    "    }\n",
    ")\n",
    "\n",
    "response = client.chat.complete(model=model, messages=messages)\n",
    "response.choices[0].message.content"
   ]
  },
  {
   "cell_type": "code",
   "execution_count": null,
   "metadata": {},
   "outputs": [],
   "source": []
  }
 ],
 "metadata": {
  "kernelspec": {
   "display_name": "mistral_ai",
   "language": "python",
   "name": "python3"
  },
  "language_info": {
   "codemirror_mode": {
    "name": "ipython",
    "version": 3
   },
   "file_extension": ".py",
   "mimetype": "text/x-python",
   "name": "python",
   "nbconvert_exporter": "python",
   "pygments_lexer": "ipython3",
   "version": "3.10.12"
  }
 },
 "nbformat": 4,
 "nbformat_minor": 2
}
