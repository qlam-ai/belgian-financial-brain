{
 "cells": [
  {
   "cell_type": "code",
   "execution_count": 1,
   "metadata": {},
   "outputs": [
    {
     "data": {
      "text/plain": [
       "'\\n- last traded price - check\\n- currency - check\\n- since open +-? - check\\n- since previous close +-? check\\n- isin?\\n- which stock market is it traded on? - check\\n- volume? - check\\n- turnover - check\\n- market cap - check \\n- historical performance (downloadable) check\\n- admitted shares - check\\n- all the company information you can have from the page - check\\n\\n'"
      ]
     },
     "execution_count": 1,
     "metadata": {},
     "output_type": "execute_result"
    }
   ],
   "source": [
    "# what are the data points that I want to extract from every stock?\n",
    "\"\"\"\n",
    "- last traded price - check\n",
    "- currency - check\n",
    "- since open +-? - check\n",
    "- since previous close +-? check\n",
    "- isin?\n",
    "- which stock market is it traded on? - check\n",
    "- volume? - check\n",
    "- turnover - check\n",
    "- market cap - check \n",
    "- historical performance (downloadable) check\n",
    "- admitted shares - check\n",
    "- all the company information you can have from the page - check\n",
    "\n",
    "\"\"\""
   ]
  },
  {
   "cell_type": "code",
   "execution_count": 2,
   "metadata": {},
   "outputs": [
    {
     "name": "stderr",
     "output_type": "stream",
     "text": [
      "/var/folders/8t/hsbvp1ws4v7f26g2g478y2lw0000gn/T/ipykernel_2981/207343045.py:9: FutureWarning: Series.__getitem__ treating keys as positions is deprecated. In a future version, integer keys will always be treated as labels (consistent with DataFrame behavior). To access a value by position, use `ser.iloc[pos]`\n",
      "  last_traded_price = ticker.history(period=\"1d\")[\"Close\"][0]\n",
      "/var/folders/8t/hsbvp1ws4v7f26g2g478y2lw0000gn/T/ipykernel_2981/207343045.py:16: FutureWarning: Series.__getitem__ treating keys as positions is deprecated. In a future version, integer keys will always be treated as labels (consistent with DataFrame behavior). To access a value by position, use `ser.iloc[pos]`\n",
      "  open_price = data[\"Open\"][0]\n",
      "/var/folders/8t/hsbvp1ws4v7f26g2g478y2lw0000gn/T/ipykernel_2981/207343045.py:17: FutureWarning: Series.__getitem__ treating keys as positions is deprecated. In a future version, integer keys will always be treated as labels (consistent with DataFrame behavior). To access a value by position, use `ser.iloc[pos]`\n",
      "  close_price = data[\"Close\"][0]\n",
      "/var/folders/8t/hsbvp1ws4v7f26g2g478y2lw0000gn/T/ipykernel_2981/207343045.py:28: FutureWarning: Series.__getitem__ treating keys as positions is deprecated. In a future version, integer keys will always be treated as labels (consistent with DataFrame behavior). To access a value by position, use `ser.iloc[pos]`\n",
      "  volume = data[\"Volume\"][0]\n"
     ]
    }
   ],
   "source": [
    "import yfinance as yf\n",
    "\n",
    "# Define the ticker symbol for UCB on Euronext Brussels\n",
    "ticker = yf.Ticker(\"UCB.BR\")\n",
    "\n",
    "# Fetch data similar to what we previously discussed\n",
    "\n",
    "# 1. Last Traded Price\n",
    "last_traded_price = ticker.history(period=\"1d\")[\"Close\"][0]\n",
    "\n",
    "# 2. Currency\n",
    "currency = ticker.info.get(\"currency\")\n",
    "\n",
    "# 3. Since Open Change (+/-)\n",
    "data = ticker.history(period=\"1d\")\n",
    "open_price = data[\"Open\"][0]\n",
    "close_price = data[\"Close\"][0]\n",
    "change_since_open = close_price - open_price\n",
    "\n",
    "# 4. Since Previous Close (+/-)\n",
    "previous_close = ticker.info.get(\"previousClose\")\n",
    "change_since_previous = close_price - previous_close\n",
    "\n",
    "# 5. Stock Market (Exchange)\n",
    "exchange = ticker.info.get(\"exchange\")\n",
    "\n",
    "# 6. Volume\n",
    "volume = data[\"Volume\"][0]\n",
    "\n",
    "# 7. Turnover (Volume * Last Traded Price)\n",
    "turnover = volume * last_traded_price\n",
    "\n",
    "# 8. Market Cap\n",
    "market_cap = ticker.info.get(\"marketCap\")\n",
    "\n",
    "# 9. Historical Performance (Downloadable)\n",
    "historical_data = ticker.history(period=\"5d\")\n",
    "historical_data.to_csv(\"UCB_historical_data.csv\")\n",
    "\n",
    "# 10. Shares Outstanding (Admitted Shares)\n",
    "shares_outstanding = ticker.info.get(\"sharesOutstanding\")\n",
    "\n",
    "# 11. Company Info (CEO, Net Income)\n",
    "comp_inf = ticker.info.get(\"companyOfficers\")[0:3]\n",
    "\n",
    "# write all the variables in a text"
   ]
  },
  {
   "cell_type": "code",
   "execution_count": 37,
   "metadata": {},
   "outputs": [],
   "source": [
    "historical_data.to_csv(\"UCB_historical_data.txt\", sep=\"\\t\", index=False)\n",
    "json_data = historical_data.to_json(orient=\"records\")"
   ]
  },
  {
   "cell_type": "code",
   "execution_count": 8,
   "metadata": {},
   "outputs": [
    {
     "data": {
      "text/plain": [
       "'BRU'"
      ]
     },
     "execution_count": 8,
     "metadata": {},
     "output_type": "execute_result"
    }
   ],
   "source": [
    "# ok let's check everything I can extract from yfinance, the rest i'll either extract it\n",
    "# from another website, or i'll just not include it!\n",
    "ticker.info.get(\"exchange\")"
   ]
  },
  {
   "cell_type": "code",
   "execution_count": 3,
   "metadata": {},
   "outputs": [
    {
     "data": {
      "text/plain": [
       "{'realestate': 0.1062,\n",
       " 'consumer_cyclical': 0.026800001,\n",
       " 'basic_materials': 0.058000002,\n",
       " 'consumer_defensive': 0.2842,\n",
       " 'technology': 0.0177,\n",
       " 'communication_services': 0.014199999,\n",
       " 'financial_services': 0.16280001,\n",
       " 'utilities': 0.0197,\n",
       " 'industrials': 0.070700005,\n",
       " 'energy': 0.0,\n",
       " 'healthcare': 0.23979999}"
      ]
     },
     "execution_count": 3,
     "metadata": {},
     "output_type": "execute_result"
    }
   ],
   "source": [
    "# for ETFs :\n",
    "spy = yf.Ticker(\"EWK\")\n",
    "data = spy.funds_data\n",
    "\n",
    "# show fund description\n",
    "data.description\n",
    "\n",
    "# show operational information\n",
    "data.fund_overview\n",
    "data.fund_operations\n",
    "\n",
    "# show holdings related information\n",
    "data.asset_classes\n",
    "data.top_holdings\n",
    "data.equity_holdings\n",
    "data.bond_holdings\n",
    "data.bond_ratings\n",
    "data.sector_weightings"
   ]
  },
  {
   "cell_type": "code",
   "execution_count": 7,
   "metadata": {},
   "outputs": [
    {
     "data": {
      "text/plain": [
       "'The fund generally will invest at least 80% of its assets in the component securities of its underlying index and in investments that have economic characteristics that are substantially identical to the component securities of its underlying index. The index is designed to measure the performance of the large-, mid- and small-capitalization segments of the equity market in Belgium. The fund is non-diversified.'"
      ]
     },
     "execution_count": 7,
     "metadata": {},
     "output_type": "execute_result"
    }
   ],
   "source": [
    "data.description"
   ]
  },
  {
   "cell_type": "code",
   "execution_count": null,
   "metadata": {},
   "outputs": [],
   "source": [
    "# iShares MSCI Belgium ETF (EWK):\n",
    "# iShares BEL 20 UCITS ETF and Xtrackers BEL 20 UCITS ETF:\n",
    "# tickets :"
   ]
  }
 ],
 "metadata": {
  "kernelspec": {
   "display_name": "mistral_ai",
   "language": "python",
   "name": "python3"
  },
  "language_info": {
   "codemirror_mode": {
    "name": "ipython",
    "version": 3
   },
   "file_extension": ".py",
   "mimetype": "text/x-python",
   "name": "python",
   "nbconvert_exporter": "python",
   "pygments_lexer": "ipython3",
   "version": "3.10.12"
  }
 },
 "nbformat": 4,
 "nbformat_minor": 2
}
