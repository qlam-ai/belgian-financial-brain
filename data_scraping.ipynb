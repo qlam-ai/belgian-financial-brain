{
 "cells": [
  {
   "cell_type": "code",
   "execution_count": null,
   "metadata": {},
   "outputs": [],
   "source": [
    "# what are the data points that I want to extract from every stock?\n",
    "\"\"\"\n",
    "- last traded price - check\n",
    "- currency - check\n",
    "- since open +-? - check\n",
    "- since previous close +-? check\n",
    "- isin?\n",
    "- which stock market is it traded on? - check\n",
    "- volume? - check\n",
    "- turnover - check\n",
    "- market cap - check \n",
    "- historical performance (downloadable) check\n",
    "- admitted shares - check\n",
    "- all the company information you can have from the page - check\n",
    "\n",
    "\"\"\""
   ]
  },
  {
   "cell_type": "code",
   "execution_count": null,
   "metadata": {},
   "outputs": [],
   "source": [
    "import yfinance as yf\n",
    "\n",
    "# Define the ticker symbol for UCB on Euronext Brussels\n",
    "ticker = yf.Ticker(\"UCB.BR\")\n",
    "\n",
    "# Fetch data similar to what we previously discussed\n",
    "\n",
    "# 1. Last Traded Price\n",
    "last_traded_price = ticker.history(period=\"1d\")[\"Close\"][0]\n",
    "\n",
    "# 2. Currency\n",
    "currency = ticker.info.get(\"currency\")\n",
    "\n",
    "# 3. Since Open Change (+/-)\n",
    "data = ticker.history(period=\"1d\")\n",
    "open_price = data[\"Open\"][0]\n",
    "close_price = data[\"Close\"][0]\n",
    "change_since_open = close_price - open_price\n",
    "\n",
    "# 4. Since Previous Close (+/-)\n",
    "previous_close = ticker.info.get(\"previousClose\")\n",
    "change_since_previous = close_price - previous_close\n",
    "\n",
    "# 5. Stock Market (Exchange)\n",
    "exchange = ticker.info.get(\"exchange\")\n",
    "\n",
    "# 6. Volume\n",
    "volume = data[\"Volume\"][0]\n",
    "\n",
    "# 7. Turnover (Volume * Last Traded Price)\n",
    "turnover = volume * last_traded_price\n",
    "\n",
    "# 8. Market Cap\n",
    "market_cap = ticker.info.get(\"marketCap\")\n",
    "\n",
    "# 9. Historical Performance (Downloadable)\n",
    "historical_data = ticker.history(period=\"5d\")\n",
    "historical_data.to_csv(\"UCB_historical_data.csv\")\n",
    "\n",
    "# 10. Shares Outstanding (Admitted Shares)\n",
    "shares_outstanding = ticker.info.get(\"sharesOutstanding\")\n",
    "\n",
    "# 11. Company Info (CEO, Net Income)\n",
    "comp_inf = ticker.info.get(\"companyOfficers\")[0:3]\n",
    "\n",
    "# write all the variables in a text"
   ]
  },
  {
   "cell_type": "code",
   "execution_count": 37,
   "metadata": {},
   "outputs": [],
   "source": [
    "historical_data.to_csv(\"UCB_historical_data.txt\", sep=\"\\t\", index=False)\n",
    "json_data = historical_data.to_json(orient=\"records\")"
   ]
  },
  {
   "cell_type": "code",
   "execution_count": null,
   "metadata": {},
   "outputs": [],
   "source": [
    "# ok let's check everything I can extract from yfinance, the rest i'll either extract it\n",
    "# from another website, or i'll just not include it!\n",
    "ticker.info.get(\"exchange\")"
   ]
  },
  {
   "cell_type": "code",
   "execution_count": null,
   "metadata": {},
   "outputs": [],
   "source": [
    "# for ETFs :\n",
    "spy = yf.Ticker(\"EWK\")\n",
    "data = spy.funds_data\n",
    "\n",
    "# show fund description\n",
    "data.description\n",
    "\n",
    "# show operational information\n",
    "data.fund_overview\n",
    "data.fund_operations\n",
    "\n",
    "# show holdings related information\n",
    "data.asset_classes\n",
    "data.top_holdings\n",
    "data.equity_holdings\n",
    "data.bond_holdings\n",
    "data.bond_ratings\n",
    "data.sector_weightings"
   ]
  },
  {
   "cell_type": "code",
   "execution_count": null,
   "metadata": {},
   "outputs": [],
   "source": [
    "data.description"
   ]
  },
  {
   "cell_type": "code",
   "execution_count": 1,
   "metadata": {},
   "outputs": [],
   "source": [
    "from extraction_functions import extract_data_etfs, extract_data_stocks"
   ]
  },
  {
   "cell_type": "code",
   "execution_count": 3,
   "metadata": {},
   "outputs": [],
   "source": [
    "extract_data_etfs(\"EWK\")"
   ]
  },
  {
   "cell_type": "code",
   "execution_count": null,
   "metadata": {},
   "outputs": [],
   "source": []
  }
 ],
 "metadata": {
  "kernelspec": {
   "display_name": "mistral_ai",
   "language": "python",
   "name": "python3"
  },
  "language_info": {
   "codemirror_mode": {
    "name": "ipython",
    "version": 3
   },
   "file_extension": ".py",
   "mimetype": "text/x-python",
   "name": "python",
   "nbconvert_exporter": "python",
   "pygments_lexer": "ipython3",
   "version": "3.10.12"
  }
 },
 "nbformat": 4,
 "nbformat_minor": 2
}
