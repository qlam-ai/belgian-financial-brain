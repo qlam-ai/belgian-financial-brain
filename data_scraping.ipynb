{
 "cells": [
  {
   "cell_type": "code",
   "execution_count": 7,
   "metadata": {},
   "outputs": [],
   "source": [
    "import requests\n",
    "from bs4 import BeautifulSoup\n",
    "import pandas as pd\n",
    "\n",
    "# URL of the website to scrape\n",
    "url = \"https://live.euronext.com/en/product/equities/BE0003739530-XBRU\"\n",
    "\n",
    "# Send a GET request to the website\n",
    "response = requests.get(url)\n",
    "\n",
    "# Check if the request was successful\n",
    "if response.status_code == 200:\n",
    "    # Parse the HTML content of the page\n",
    "    soup = BeautifulSoup(response.content, \"html.parser\")\n",
    "\n",
    "\n",
    "else:\n",
    "    print(f\"Failed to retrieve the page. Status code: {response.status_code}\")"
   ]
  },
  {
   "cell_type": "code",
   "execution_count": 9,
   "metadata": {},
   "outputs": [
    {
     "data": {
      "text/plain": [
       "'\\n- last traded price\\n- since open +-?\\n- since previous close +-?\\n- isin?\\n- which stock market is it traded on?\\n- volume?\\n- turnover\\n- market cap\\n- historical performance (downloadable)\\n- admitted shares\\n- all the company information you can have from the page\\n\\n'"
      ]
     },
     "execution_count": 9,
     "metadata": {},
     "output_type": "execute_result"
    }
   ],
   "source": [
    "# what are the data points that I want to extract from every stock?\n",
    "\"\"\"\n",
    "- last traded price\n",
    "- since open +-?\n",
    "- since previous close +-?\n",
    "- isin?\n",
    "- which stock market is it traded on?\n",
    "- volume?\n",
    "- turnover\n",
    "- market cap\n",
    "- historical performance (downloadable)\n",
    "- admitted shares\n",
    "- all the company information you can have from the page\n",
    "\n",
    "\"\"\""
   ]
  },
  {
   "cell_type": "code",
   "execution_count": null,
   "metadata": {},
   "outputs": [],
   "source": [
    "# let the scraping begin"
   ]
  }
 ],
 "metadata": {
  "kernelspec": {
   "display_name": "mistral_ai",
   "language": "python",
   "name": "python3"
  },
  "language_info": {
   "codemirror_mode": {
    "name": "ipython",
    "version": 3
   },
   "file_extension": ".py",
   "mimetype": "text/x-python",
   "name": "python",
   "nbconvert_exporter": "python",
   "pygments_lexer": "ipython3",
   "version": "3.10.12"
  }
 },
 "nbformat": 4,
 "nbformat_minor": 2
}
