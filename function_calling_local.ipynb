{
 "cells": [
  {
   "cell_type": "code",
   "execution_count": 25,
   "metadata": {},
   "outputs": [
    {
     "data": {
      "application/vnd.jupyter.widget-view+json": {
       "model_id": "422511faa52149a5b4ccab804435fc82",
       "version_major": 2,
       "version_minor": 0
      },
      "text/plain": [
       "Fetching 6 files:   0%|          | 0/6 [00:00<?, ?it/s]"
      ]
     },
     "metadata": {},
     "output_type": "display_data"
    }
   ],
   "source": [
    "import pandas as pd\n",
    "import json\n",
    "from fuzzywuzzy import process\n",
    "from mlx_lm import load, generate\n",
    "import re\n",
    "import functools\n",
    "\n",
    "company_names = {\n",
    "    \"ucb\": \"UCB.BR\",\n",
    "    \"abinbev\": \"ABI.BR\",\n",
    "    \"aedifica\": \"AED.BR\",\n",
    "    \"ageas\": \"AGS.BR\",\n",
    "    \"aperam\": \"APAM.AS\",\n",
    "    \"argenx\": \"ARGX.BR\",\n",
    "    \"belgian national bank\": \"BNB.BR\",\n",
    "    \"cofinimmo\": \"COFB.BR\",\n",
    "    \"elia\": \"ELI.BR\",\n",
    "    \"ishares msci belgium etf\": \"EWK\",\n",
    "    \"groupe bruxelles lambert sa\": \"GBLB.BR\",\n",
    "    \"galapagos nv\": \"GLPG.AS\",\n",
    "    \"kbc bank\": \"KBC.BR\",\n",
    "    \"melexis nv\": \"MELE.BR\",\n",
    "    \"proximus\": \"PROX.BR\",\n",
    "    \"sofina\": \"SOF.BR\",\n",
    "    \"solvay\": \"SOLB.BR\",\n",
    "    \"umicore\": \"UMI.BR\",\n",
    "    \"unified post group\": \"UPG.BR\",\n",
    "    \"warehouses de pauw\": \"WDP.BR\",\n",
    "    \"xior student housing\": \"XIOR.BR\",\n",
    "}\n",
    "\n",
    "companies = list(company_names.keys())\n",
    "# Threshold for acceptable similarity (0-100 scale)\n",
    "threshold = 80\n",
    "model, tokenizer = load(\"mlx-community/Llama-3.2-3B-Instruct-4bit\")\n",
    "\n",
    "\n",
    "def find_best_match(user_input, company_list, threshold):\n",
    "    # Find the best match with score\n",
    "    best_match, best_score = process.extractOne(user_input, company_list)\n",
    "\n",
    "    # Check if the best match meets the threshold\n",
    "    if best_score >= threshold:\n",
    "        return best_match\n",
    "    else:\n",
    "        return \"none\"\n",
    "\n",
    "\n",
    "def read_file_to_string(file_name):\n",
    "    try:\n",
    "        with open(file_name, \"r\", encoding=\"utf-8\") as file:\n",
    "            content = file.read()\n",
    "        return content\n",
    "    except FileNotFoundError:\n",
    "        return \"Error: File not found.\"\n",
    "    except IOError:\n",
    "        return \"Error: Could not read the file.\"\n",
    "\n",
    "\n",
    "def retrieve_stock_etf_info(companies: list, stock_name: str, threshold: int) -> str:\n",
    "    stock_name = stock_name.lower()\n",
    "    result = find_best_match(stock_name, companies, threshold)\n",
    "    # let's do a fuzzy match with the company names and retrieve the most relevant company name\n",
    "    res = \"\"\n",
    "    if result != \"none\":\n",
    "        file_content = read_file_to_string(\"data/\" + company_names[result] + \".txt\")\n",
    "        res = json.dumps({\"information we have on stock/etf\": file_content})\n",
    "    else:\n",
    "        res = json.dumps({\"error\": \"transaction id not found.\"})\n",
    "    return res\n",
    "\n",
    "\n",
    "def extract_json(input):\n",
    "\n",
    "    json_match = re.search(r\"\\{.*\\}\", input)\n",
    "    if json_match:\n",
    "        json_string = json_match.group()\n",
    "        data = json.loads(json_string)\n",
    "        return data\n",
    "    else:\n",
    "        return None\n",
    "\n",
    "\n",
    "def tool_call(message, model, tokenizer):\n",
    "    message = [\n",
    "        {\n",
    "            \"role\": \"user\",\n",
    "            \"content\": message,\n",
    "        }\n",
    "    ]\n",
    "\n",
    "    # Define tools available for the model to use:\n",
    "    tool_message = [\n",
    "        {\n",
    "            \"name\": \"retrieve_stock_etf_info\",\n",
    "            \"description\": \"get info about a certain stock or etf given the name of the instrument\",\n",
    "            \"parameter_definitions\": {\n",
    "                \"stock_name\": {\n",
    "                    \"description\": \"Name of the stock or ETF for which we need information\",\n",
    "                    \"type\": \"str\",\n",
    "                    \"required\": True,\n",
    "                }\n",
    "            },\n",
    "        },\n",
    "        {\n",
    "            \"name\": \"directly_answer\",\n",
    "            \"description\": \"Calls a standard (un-augmented) AI chatbot to generate a response given the conversation history\",\n",
    "            \"parameter_definitions\": {},\n",
    "        },\n",
    "    ]\n",
    "    formatted_input = tokenizer.apply_chat_template(\n",
    "        message, tools=tool_message, tokenize=False, add_generation_prompt=True\n",
    "    )\n",
    "    response = generate(model, tokenizer, prompt=formatted_input, verbose=False)\n",
    "    json = extract_json(response)\n",
    "    if json is None or json[\"name\"] == \"directly_answer\":\n",
    "        return None\n",
    "    else:\n",
    "        names_to_functions = {\n",
    "            \"retrieve_stock_etf_info\": functools.partial(\n",
    "                retrieve_stock_etf_info, companies=companies, threshold=80\n",
    "            ),\n",
    "        }\n",
    "\n",
    "        # to be called after the tool answer\n",
    "        function_name = json[\"name\"]\n",
    "        function_params = json[\"parameters\"]\n",
    "        function_result = names_to_functions[function_name](**function_params)\n",
    "        return function_result"
   ]
  },
  {
   "cell_type": "markdown",
   "metadata": {},
   "source": [
    "strategy : \n",
    "- every message in : \n",
    "we apply function call\n",
    "- if function is retrieved : get result, put in message + message in and output\n",
    "- if none, put none, and get answer\n",
    "then iterate"
   ]
  },
  {
   "cell_type": "code",
   "execution_count": 28,
   "metadata": {},
   "outputs": [],
   "source": [
    "answer = tool_call(\"what is the stock price of UCB today??\", model, tokenizer)"
   ]
  },
  {
   "cell_type": "code",
   "execution_count": 29,
   "metadata": {},
   "outputs": [
    {
     "name": "stdout",
     "output_type": "stream",
     "text": [
      "{\"information we have on stock/etf\": \"Yahoo ID of Stock: UCB.BR\\nlast traded price: 178.0\\ncurrency: EUR\\nstock value change since market open: -0.25\\nstock value change since market last close: -0.75\\nstock exchange on which stock is traded: BRU\\nvolume: 115187\\nturnover: 20503286.0\\nmarket Cap: 33770160128\\nnumber of shares outstanding: 189720000\\ncompany information in json format: [{'maxAge': 1, 'name': 'Mr. Jean-Christophe  Tellier', 'age': 64, 'title': 'CEO & Executive Director', 'yearBorn': 1959, 'fiscalYear': 2023, 'totalPay': 4099149, 'exercisedValue': 0, 'unexercisedValue': 1781620}, {'maxAge': 1, 'name': 'Ms. Sandrine  Dufour CFA', 'age': 57, 'title': 'Executive VP, CFO & Chief Corporate Development', 'yearBorn': 1966, 'fiscalYear': 2023, 'exercisedValue': 0, 'unexercisedValue': 0}, {'maxAge': 1, 'name': 'Dr. Kirsten  Lund-Jurgensen Ph.D.', 'age': 63, 'title': 'Executive Vice President of Supply & Technology Solutions', 'yearBorn': 1960, 'fiscalYear': 2023, 'exercisedValue': 0, 'unexercisedValue': 0}]\\nhistorical data over 5 days: [{\\\"Open\\\":173.0500030518,\\\"High\\\":173.4499969482,\\\"Low\\\":169.9499969482,\\\"Close\\\":171.0,\\\"Volume\\\":206743,\\\"Dividends\\\":0.0,\\\"Stock Splits\\\":0.0},{\\\"Open\\\":171.1000061035,\\\"High\\\":173.8500061035,\\\"Low\\\":171.0500030518,\\\"Close\\\":173.75,\\\"Volume\\\":172763,\\\"Dividends\\\":0.0,\\\"Stock Splits\\\":0.0},{\\\"Open\\\":174.1999969482,\\\"High\\\":177.6499938965,\\\"Low\\\":173.75,\\\"Close\\\":176.6999969482,\\\"Volume\\\":206479,\\\"Dividends\\\":0.0,\\\"Stock Splits\\\":0.0},{\\\"Open\\\":175.6999969482,\\\"High\\\":180.5500030518,\\\"Low\\\":175.6999969482,\\\"Close\\\":178.75,\\\"Volume\\\":190999,\\\"Dividends\\\":0.0,\\\"Stock Splits\\\":0.0},{\\\"Open\\\":178.25,\\\"High\\\":179.5500030518,\\\"Low\\\":177.1999969482,\\\"Close\\\":178.0,\\\"Volume\\\":115187,\\\"Dividends\\\":0.0,\\\"Stock Splits\\\":0.0}]\\n\"}\n"
     ]
    }
   ],
   "source": [
    "print(answer)"
   ]
  },
  {
   "cell_type": "code",
   "execution_count": 20,
   "metadata": {},
   "outputs": [],
   "source": [
    "user_input = \"what is the weather like today??\""
   ]
  },
  {
   "cell_type": "code",
   "execution_count": 21,
   "metadata": {},
   "outputs": [],
   "source": [
    "# Format message with the command-r tool use template\n",
    "messages = [\n",
    "    {\n",
    "        \"role\": \"user\",\n",
    "        \"content\": user_input,\n",
    "    }\n",
    "]\n",
    "# Define tools available for the model to use:\n",
    "tools = [\n",
    "    {\n",
    "        \"name\": \"retrieve_stock_etf_info\",\n",
    "        \"description\": \"get info about a certain stock or etf given the name of the instrument\",\n",
    "        \"parameter_definitions\": {\n",
    "            \"stock_name\": {\n",
    "                \"description\": \"Name of the stock or ETF for which we need information\",\n",
    "                \"type\": \"str\",\n",
    "                \"required\": True,\n",
    "            }\n",
    "        },\n",
    "    },\n",
    "    {\n",
    "        \"name\": \"directly_answer\",\n",
    "        \"description\": \"Calls a standard (un-augmented) AI chatbot to generate a response given the conversation history\",\n",
    "        \"parameter_definitions\": {},\n",
    "    },\n",
    "]\n",
    "\n",
    "formatted_input = tokenizer.apply_chat_template(\n",
    "    messages, tools=tools, tokenize=False, add_generation_prompt=True\n",
    ")\n",
    "response = generate(model, tokenizer, prompt=formatted_input, verbose=False)"
   ]
  },
  {
   "cell_type": "code",
   "execution_count": 22,
   "metadata": {},
   "outputs": [
    {
     "name": "stdout",
     "output_type": "stream",
     "text": [
      "{\"name\": \"directly_answer\", \"parameters\": {}}<|eom_id|><|start_header_id|>assistant<|end_header_id|>\n",
      "\n",
      "The function \"directly_answer\" is used to call a standard (un-augmented) AI chatbot to generate a response given the conversation history. Since there is no conversation history provided, the function will return a default response.\n"
     ]
    }
   ],
   "source": [
    "print(response)"
   ]
  },
  {
   "cell_type": "code",
   "execution_count": 23,
   "metadata": {},
   "outputs": [
    {
     "name": "stdout",
     "output_type": "stream",
     "text": [
      "{'name': 'directly_answer', 'parameters': {}}\n"
     ]
    }
   ],
   "source": [
    "import re\n",
    "\n",
    "json_match = re.search(r\"\\{.*\\}\", response)\n",
    "if json_match:\n",
    "    json_string = json_match.group()\n",
    "    data = json.loads(json_string)\n",
    "    print(data)\n",
    "else:\n",
    "    print(\"No JSON found\")"
   ]
  },
  {
   "cell_type": "code",
   "execution_count": null,
   "metadata": {},
   "outputs": [],
   "source": [
    "import functools\n",
    "\n",
    "names_to_functions = {\n",
    "    \"retrieve_stock_etf_info\": functools.partial(\n",
    "        retrieve_stock_etf_info, companies=companies, threshold=80\n",
    "    ),\n",
    "}\n",
    "\n",
    "# to be called after the tool answer\n",
    "function_name = data[\"name\"]\n",
    "function_params = data[\"parameters\"]\n",
    "print(\"\\nfunction_name: \", function_name, \"\\nfunction_params: \", function_params)\n",
    "\n",
    "function_result = names_to_functions[function_name](**function_params)\n",
    "function_result"
   ]
  },
  {
   "cell_type": "code",
   "execution_count": null,
   "metadata": {},
   "outputs": [],
   "source": [
    "formatted_input = tokenizer.apply_chat_template(\n",
    "    messages, tokenize=False, add_generation_prompt=True\n",
    ")\n",
    "\n",
    "response = generate(model, tokenizer, prompt=formatted_input, verbose=False)"
   ]
  },
  {
   "cell_type": "code",
   "execution_count": null,
   "metadata": {},
   "outputs": [],
   "source": [
    "print(response)"
   ]
  },
  {
   "cell_type": "code",
   "execution_count": null,
   "metadata": {},
   "outputs": [],
   "source": [
    "messages"
   ]
  },
  {
   "cell_type": "code",
   "execution_count": null,
   "metadata": {},
   "outputs": [],
   "source": []
  }
 ],
 "metadata": {
  "kernelspec": {
   "display_name": "mistral_ai",
   "language": "python",
   "name": "python3"
  },
  "language_info": {
   "codemirror_mode": {
    "name": "ipython",
    "version": 3
   },
   "file_extension": ".py",
   "mimetype": "text/x-python",
   "name": "python",
   "nbconvert_exporter": "python",
   "pygments_lexer": "ipython3",
   "version": "3.10.12"
  }
 },
 "nbformat": 4,
 "nbformat_minor": 2
}
