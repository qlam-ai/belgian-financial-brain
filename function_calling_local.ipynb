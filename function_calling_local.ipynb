{
 "cells": [
  {
   "cell_type": "code",
   "execution_count": null,
   "metadata": {},
   "outputs": [],
   "source": [
    "from mlx_lm import load, generate\n",
    "\n",
    "model, tokenizer = load(\"mlx-community/Llama-3.2-3B-Instruct-4bit\")"
   ]
  },
  {
   "cell_type": "code",
   "execution_count": null,
   "metadata": {},
   "outputs": [],
   "source": [
    "import pandas as pd\n",
    "import json\n",
    "from fuzzywuzzy import process\n",
    "\n",
    "\n",
    "company_names = {\n",
    "    \"ucb\": \"UCB.BR\",\n",
    "    \"abinbev\": \"ABI.BR\",\n",
    "    \"aedifica\": \"AED.BR\",\n",
    "    \"ageas\": \"AGS.BR\",\n",
    "    \"aperam\": \"APAM.AS\",\n",
    "    \"argenx\": \"ARGX.BR\",\n",
    "    \"belgian national bank\": \"BNB.BR\",\n",
    "    \"cofinimmo\": \"COFB.BR\",\n",
    "    \"elia\": \"ELI.BR\",\n",
    "    \"ishares msci belgium etf\": \"EWK\",\n",
    "    \"groupe bruxelles lambert sa\": \"GBLB.BR\",\n",
    "    \"galapagos nv\": \"GLPG.AS\",\n",
    "    \"kbc bank\": \"KBC.BR\",\n",
    "    \"melexis nv\": \"MELE.BR\",\n",
    "    \"proximus\": \"PROX.BR\",\n",
    "    \"sofina\": \"SOF.BR\",\n",
    "    \"solvay\": \"SOLB.BR\",\n",
    "    \"umicore\": \"UMI.BR\",\n",
    "    \"unified post group\": \"UPG.BR\",\n",
    "    \"warehouses de pauw\": \"WDP.BR\",\n",
    "    \"xior student housing\": \"XIOR.BR\",\n",
    "}\n",
    "\n",
    "companies = list(company_names.keys())\n",
    "# Threshold for acceptable similarity (0-100 scale)\n",
    "threshold = 80\n",
    "\n",
    "\n",
    "def find_best_match(user_input, company_list, threshold):\n",
    "    # Find the best match with score\n",
    "    best_match, best_score = process.extractOne(user_input, company_list)\n",
    "\n",
    "    # Check if the best match meets the threshold\n",
    "    if best_score >= threshold:\n",
    "        return best_match\n",
    "    else:\n",
    "        return \"none\"\n",
    "\n",
    "\n",
    "def read_file_to_string(file_name):\n",
    "    try:\n",
    "        with open(file_name, \"r\", encoding=\"utf-8\") as file:\n",
    "            content = file.read()\n",
    "        return content\n",
    "    except FileNotFoundError:\n",
    "        return \"Error: File not found.\"\n",
    "    except IOError:\n",
    "        return \"Error: Could not read the file.\"\n",
    "\n",
    "\n",
    "def retrieve_stock_etf_info(companies: list, stock_name: str, threshold: int) -> str:\n",
    "    stock_name = stock_name.lower()\n",
    "    result = find_best_match(stock_name, companies, threshold)\n",
    "    # let's do a fuzzy match with the company names and retrieve the most relevant company name\n",
    "    res = \"\"\n",
    "    if result != \"none\":\n",
    "        file_content = read_file_to_string(\"data/\" + company_names[result] + \".txt\")\n",
    "        res = json.dumps({\"information we have on stock/etf\": file_content})\n",
    "    else:\n",
    "        res = json.dumps({\"error\": \"transaction id not found.\"})\n",
    "    return res"
   ]
  },
  {
   "cell_type": "code",
   "execution_count": null,
   "metadata": {},
   "outputs": [],
   "source": [
    "import functools\n",
    "\n",
    "names_to_functions = {\n",
    "    \"retrieve_stock_etf_info\": functools.partial(\n",
    "        retrieve_stock_etf_info, companies=companies, threshold=80\n",
    "    ),\n",
    "}\n",
    "\n",
    "messages = [\n",
    "    {\"role\": \"user\", \"content\": \"give me the latest selling price of the UCB stock\"}\n",
    "]"
   ]
  },
  {
   "cell_type": "code",
   "execution_count": null,
   "metadata": {},
   "outputs": [],
   "source": [
    "# Format message with the command-r tool use template\n",
    "messages = [\n",
    "    {\n",
    "        \"role\": \"user\",\n",
    "        \"content\": \"what is the last traded price of the belgian national bank?\",\n",
    "    }\n",
    "]\n",
    "# Define tools available for the model to use:\n",
    "tools = [\n",
    "    {\n",
    "        \"name\": \"retrieve_stock_etf_info\",\n",
    "        \"description\": \"get info about a certain stock or etf given the name of the instrument\",\n",
    "        \"parameter_definitions\": {\n",
    "            \"stock_name\": {\n",
    "                \"description\": \"Name of the stock or ETF for which we need information\",\n",
    "                \"type\": \"str\",\n",
    "                \"required\": True,\n",
    "            }\n",
    "        },\n",
    "    },\n",
    "    {\n",
    "        \"name\": \"directly_answer\",\n",
    "        \"description\": \"Calls a standard (un-augmented) AI chatbot to generate a response given the conversation history\",\n",
    "        \"parameter_definitions\": {},\n",
    "    },\n",
    "]\n",
    "\n",
    "formatted_input = tokenizer.apply_chat_template(\n",
    "    messages, tools=tools, tokenize=False, add_generation_prompt=True\n",
    ")\n",
    "response = generate(model, tokenizer, prompt=formatted_input, verbose=False)"
   ]
  },
  {
   "cell_type": "code",
   "execution_count": null,
   "metadata": {},
   "outputs": [],
   "source": [
    "response"
   ]
  },
  {
   "cell_type": "code",
   "execution_count": null,
   "metadata": {},
   "outputs": [],
   "source": [
    "import re\n",
    "\n",
    "json_match = re.search(r\"\\{.*\\}\", response)\n",
    "if json_match:\n",
    "    json_string = json_match.group()\n",
    "    data = json.loads(json_string)\n",
    "    print(data)\n",
    "else:\n",
    "    print(\"No JSON found\")"
   ]
  },
  {
   "cell_type": "code",
   "execution_count": null,
   "metadata": {},
   "outputs": [],
   "source": [
    "# should be AssistantMessage(content='', tool_calls=[ToolCall(function=FunctionCall(name='retrieve_stock_etf_info', arguments='{\"stock_name\": \"UCB\"}'), id='iYIq1dcyn', type='function')], prefix=False, role='assistant')\n",
    "tool_resp = {\n",
    "    \"role\": \"assistant\",\n",
    "    \"tool_calls\": [\n",
    "        {\n",
    "            \"type\": \"function\",\n",
    "            \"function\": {\n",
    "                \"name\": \"retrieve_stock_etf_info\",\n",
    "                \"arguments\": {\"stock_name\": \"Belgian National Bank\"},\n",
    "            },\n",
    "        }\n",
    "    ],\n",
    "}\n",
    "messages.append(tool_resp)"
   ]
  },
  {
   "cell_type": "code",
   "execution_count": null,
   "metadata": {},
   "outputs": [],
   "source": [
    "# then we call the tooool actually in python, and we add it's response :\n",
    "message = {\n",
    "    \"role\": \"tool\",\n",
    "    \"name\": \"retrieve_stock_etf_info\",\n",
    "    \"content\": \"the belgian national bank is based in Brussels and has a value of 1000 euros on a daily basis\",\n",
    "}\n",
    "messages.append(message)"
   ]
  },
  {
   "cell_type": "code",
   "execution_count": null,
   "metadata": {},
   "outputs": [],
   "source": [
    "messages"
   ]
  },
  {
   "cell_type": "code",
   "execution_count": null,
   "metadata": {},
   "outputs": [],
   "source": [
    "import json\n",
    "\n",
    "tool_call = response.choices[0].message.tool_calls[0]\n",
    "function_name = tool_call.function.name\n",
    "function_params = json.loads(tool_call.function.arguments)\n",
    "print(\"\\nfunction_name: \", function_name, \"\\nfunction_params: \", function_params)"
   ]
  },
  {
   "cell_type": "code",
   "execution_count": null,
   "metadata": {},
   "outputs": [],
   "source": [
    "function_result = names_to_functions[function_name](**function_params)\n",
    "function_result"
   ]
  },
  {
   "cell_type": "code",
   "execution_count": null,
   "metadata": {},
   "outputs": [],
   "source": [
    "messages.append(\n",
    "    {\n",
    "        \"role\": \"tool\",\n",
    "        \"name\": function_name,\n",
    "        \"content\": function_result,\n",
    "        \"tool_call_id\": tool_call.id,\n",
    "    }\n",
    ")\n",
    "\n",
    "response = client.chat.complete(model=model, messages=messages)\n",
    "response.choices[0].message.content"
   ]
  },
  {
   "cell_type": "code",
   "execution_count": null,
   "metadata": {},
   "outputs": [],
   "source": [
    "# Format message with the command-r tool use template\n",
    "conversation = [\n",
    "    {\n",
    "        \"role\": \"user\",\n",
    "        \"content\": \"what is the last traded price of the belgian national bank?\",\n",
    "    }\n",
    "]\n",
    "# Define tools available for the model to use:\n",
    "tools = [\n",
    "    {\n",
    "        \"name\": \"retrieve_stock_etf_info\",\n",
    "        \"description\": \"get info about a certain stock or etf given the name of the instrument\",\n",
    "        \"parameter_definitions\": {\n",
    "            \"stock_name\": {\n",
    "                \"description\": \"Name of the stock or ETF for which we need information\",\n",
    "                \"type\": \"str\",\n",
    "                \"required\": True,\n",
    "            }\n",
    "        },\n",
    "    },\n",
    "    {\n",
    "        \"name\": \"directly_answer\",\n",
    "        \"description\": \"Calls a standard (un-augmented) AI chatbot to generate a response given the conversation history\",\n",
    "        \"parameter_definitions\": {},\n",
    "    },\n",
    "]\n",
    "\n",
    "formatted_input = tokenizer.apply_chat_template(\n",
    "    conversation, tools=tools, tokenize=False, add_generation_prompt=True\n",
    ")\n",
    "response = generate(model, tokenizer, prompt=formatted_input, verbose=False)"
   ]
  },
  {
   "cell_type": "code",
   "execution_count": null,
   "metadata": {},
   "outputs": [],
   "source": [
    "print(response)"
   ]
  },
  {
   "cell_type": "code",
   "execution_count": null,
   "metadata": {},
   "outputs": [],
   "source": [
    "formatted_input = tokenizer.apply_chat_template(\n",
    "    messages, tools=tools, tokenize=False, add_generation_prompt=True\n",
    ")\n",
    "\n",
    "response = generate(model, tokenizer, prompt=formatted_input, verbose=False)"
   ]
  },
  {
   "cell_type": "code",
   "execution_count": null,
   "metadata": {},
   "outputs": [],
   "source": [
    "print(response)"
   ]
  },
  {
   "cell_type": "code",
   "execution_count": null,
   "metadata": {},
   "outputs": [],
   "source": []
  }
 ],
 "metadata": {
  "kernelspec": {
   "display_name": "mistral_ai",
   "language": "python",
   "name": "python3"
  },
  "language_info": {
   "codemirror_mode": {
    "name": "ipython",
    "version": 3
   },
   "file_extension": ".py",
   "mimetype": "text/x-python",
   "name": "python",
   "nbconvert_exporter": "python",
   "pygments_lexer": "ipython3",
   "version": "3.10.12"
  }
 },
 "nbformat": 4,
 "nbformat_minor": 2
}
