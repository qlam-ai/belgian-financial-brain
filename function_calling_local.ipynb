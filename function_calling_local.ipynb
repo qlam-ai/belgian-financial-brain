{
 "cells": [
  {
   "cell_type": "code",
   "execution_count": 1,
   "metadata": {},
   "outputs": [
    {
     "data": {
      "application/vnd.jupyter.widget-view+json": {
       "model_id": "7b26f4bad95c417ba1df1730f3c5b671",
       "version_major": 2,
       "version_minor": 0
      },
      "text/plain": [
       "Fetching 6 files:   0%|          | 0/6 [00:00<?, ?it/s]"
      ]
     },
     "metadata": {},
     "output_type": "display_data"
    }
   ],
   "source": [
    "from mlx_lm import load, generate\n",
    "\n",
    "model, tokenizer = load(\"mlx-community/Llama-3.2-3B-Instruct-4bit\")"
   ]
  },
  {
   "cell_type": "code",
   "execution_count": 2,
   "metadata": {},
   "outputs": [
    {
     "name": "stderr",
     "output_type": "stream",
     "text": [
      "/Users/naimsassine/anaconda3/envs/mistral_ai/lib/python3.10/site-packages/fuzzywuzzy/fuzz.py:11: UserWarning: Using slow pure-python SequenceMatcher. Install python-Levenshtein to remove this warning\n",
      "  warnings.warn('Using slow pure-python SequenceMatcher. Install python-Levenshtein to remove this warning')\n"
     ]
    }
   ],
   "source": [
    "import pandas as pd\n",
    "import json\n",
    "from fuzzywuzzy import process\n",
    "\n",
    "\n",
    "company_names = {\n",
    "    \"ucb\": \"UCB.BR\",\n",
    "    \"abinbev\": \"ABI.BR\",\n",
    "    \"aedifica\": \"AED.BR\",\n",
    "    \"ageas\": \"AGS.BR\",\n",
    "    \"aperam\": \"APAM.AS\",\n",
    "    \"argenx\": \"ARGX.BR\",\n",
    "    \"belgian national bank\": \"BNB.BR\",\n",
    "    \"cofinimmo\": \"COFB.BR\",\n",
    "    \"elia\": \"ELI.BR\",\n",
    "    \"ishares msci belgium etf\": \"EWK\",\n",
    "    \"groupe bruxelles lambert sa\": \"GBLB.BR\",\n",
    "    \"galapagos nv\": \"GLPG.AS\",\n",
    "    \"kbc bank\": \"KBC.BR\",\n",
    "    \"melexis nv\": \"MELE.BR\",\n",
    "    \"proximus\": \"PROX.BR\",\n",
    "    \"sofina\": \"SOF.BR\",\n",
    "    \"solvay\": \"SOLB.BR\",\n",
    "    \"umicore\": \"UMI.BR\",\n",
    "    \"unified post group\": \"UPG.BR\",\n",
    "    \"warehouses de pauw\": \"WDP.BR\",\n",
    "    \"xior student housing\": \"XIOR.BR\",\n",
    "}\n",
    "\n",
    "companies = list(company_names.keys())\n",
    "# Threshold for acceptable similarity (0-100 scale)\n",
    "threshold = 80\n",
    "\n",
    "\n",
    "def find_best_match(user_input, company_list, threshold):\n",
    "    # Find the best match with score\n",
    "    best_match, best_score = process.extractOne(user_input, company_list)\n",
    "\n",
    "    # Check if the best match meets the threshold\n",
    "    if best_score >= threshold:\n",
    "        return best_match\n",
    "    else:\n",
    "        return \"none\"\n",
    "\n",
    "\n",
    "def read_file_to_string(file_name):\n",
    "    try:\n",
    "        with open(file_name, \"r\", encoding=\"utf-8\") as file:\n",
    "            content = file.read()\n",
    "        return content\n",
    "    except FileNotFoundError:\n",
    "        return \"Error: File not found.\"\n",
    "    except IOError:\n",
    "        return \"Error: Could not read the file.\"\n",
    "\n",
    "\n",
    "def retrieve_stock_etf_info(companies: list, stock_name: str, threshold: int) -> str:\n",
    "    stock_name = stock_name.lower()\n",
    "    result = find_best_match(stock_name, companies, threshold)\n",
    "    # let's do a fuzzy match with the company names and retrieve the most relevant company name\n",
    "    res = \"\"\n",
    "    if result != \"none\":\n",
    "        file_content = read_file_to_string(\"data/\" + company_names[result] + \".txt\")\n",
    "        res = json.dumps({\"information we have on stock/etf\": file_content})\n",
    "    else:\n",
    "        res = json.dumps({\"error\": \"transaction id not found.\"})\n",
    "    return res"
   ]
  },
  {
   "cell_type": "code",
   "execution_count": 3,
   "metadata": {},
   "outputs": [],
   "source": [
    "user_input = \"what is the latest trading price of the UCB stock?\""
   ]
  },
  {
   "cell_type": "code",
   "execution_count": 4,
   "metadata": {},
   "outputs": [],
   "source": [
    "# Format message with the command-r tool use template\n",
    "messages = [\n",
    "    {\n",
    "        \"role\": \"user\",\n",
    "        \"content\": user_input,\n",
    "    }\n",
    "]\n",
    "# Define tools available for the model to use:\n",
    "tools = [\n",
    "    {\n",
    "        \"name\": \"retrieve_stock_etf_info\",\n",
    "        \"description\": \"get info about a certain stock or etf given the name of the instrument\",\n",
    "        \"parameter_definitions\": {\n",
    "            \"stock_name\": {\n",
    "                \"description\": \"Name of the stock or ETF for which we need information\",\n",
    "                \"type\": \"str\",\n",
    "                \"required\": True,\n",
    "            }\n",
    "        },\n",
    "    },\n",
    "    {\n",
    "        \"name\": \"directly_answer\",\n",
    "        \"description\": \"Calls a standard (un-augmented) AI chatbot to generate a response given the conversation history\",\n",
    "        \"parameter_definitions\": {},\n",
    "    },\n",
    "]\n",
    "\n",
    "formatted_input = tokenizer.apply_chat_template(\n",
    "    messages, tools=tools, tokenize=False, add_generation_prompt=True\n",
    ")\n",
    "response = generate(model, tokenizer, prompt=formatted_input, verbose=False)"
   ]
  },
  {
   "cell_type": "code",
   "execution_count": 5,
   "metadata": {},
   "outputs": [
    {
     "name": "stdout",
     "output_type": "stream",
     "text": [
      "{\"name\": \"retrieve_stock_etf_info\", \"parameters\": {\"stock_name\": \"UCB\"}}<|eom_id|><|start_header_id|>assistant<|end_header_id|>\n",
      "\n",
      "<|python_tag|>{\"name\": \"retrieve_stock_etf_info\", \"parameters\": {\"stock_name\": \"UCB\"}}<|eom_id|><|start_header_id|>assistant<|end_header_id|>\n",
      "\n",
      "The function \"retrieve_stock_etf_info\" requires a string argument \"stock_name\" to get the latest trading price of the UCB stock.\n"
     ]
    }
   ],
   "source": [
    "print(response)"
   ]
  },
  {
   "cell_type": "code",
   "execution_count": 6,
   "metadata": {},
   "outputs": [
    {
     "name": "stdout",
     "output_type": "stream",
     "text": [
      "{'name': 'retrieve_stock_etf_info', 'parameters': {'stock_name': 'UCB'}}\n"
     ]
    }
   ],
   "source": [
    "import re\n",
    "\n",
    "json_match = re.search(r\"\\{.*\\}\", response)\n",
    "if json_match:\n",
    "    json_string = json_match.group()\n",
    "    data = json.loads(json_string)\n",
    "    print(data)\n",
    "else:\n",
    "    print(\"No JSON found\")"
   ]
  },
  {
   "cell_type": "code",
   "execution_count": null,
   "metadata": {},
   "outputs": [],
   "source": [
    "import functools\n",
    "\n",
    "names_to_functions = {\n",
    "    \"retrieve_stock_etf_info\": functools.partial(\n",
    "        retrieve_stock_etf_info, companies=companies, threshold=80\n",
    "    ),\n",
    "}\n",
    "\n",
    "# to be called after the tool answer\n",
    "function_name = data[\"name\"]\n",
    "function_params = data[\"parameters\"]\n",
    "print(\"\\nfunction_name: \", function_name, \"\\nfunction_params: \", function_params)\n",
    "\n",
    "function_result = names_to_functions[function_name](**function_params)\n",
    "function_result"
   ]
  },
  {
   "cell_type": "code",
   "execution_count": null,
   "metadata": {},
   "outputs": [],
   "source": [
    "formatted_input = tokenizer.apply_chat_template(\n",
    "    messages, tokenize=False, add_generation_prompt=True\n",
    ")\n",
    "\n",
    "response = generate(model, tokenizer, prompt=formatted_input, verbose=False)"
   ]
  },
  {
   "cell_type": "code",
   "execution_count": null,
   "metadata": {},
   "outputs": [],
   "source": [
    "print(response)"
   ]
  },
  {
   "cell_type": "code",
   "execution_count": null,
   "metadata": {},
   "outputs": [],
   "source": [
    "messages"
   ]
  },
  {
   "cell_type": "code",
   "execution_count": null,
   "metadata": {},
   "outputs": [],
   "source": []
  }
 ],
 "metadata": {
  "kernelspec": {
   "display_name": "mistral_ai",
   "language": "python",
   "name": "python3"
  },
  "language_info": {
   "codemirror_mode": {
    "name": "ipython",
    "version": 3
   },
   "file_extension": ".py",
   "mimetype": "text/x-python",
   "name": "python",
   "nbconvert_exporter": "python",
   "pygments_lexer": "ipython3",
   "version": "3.10.12"
  }
 },
 "nbformat": 4,
 "nbformat_minor": 2
}
